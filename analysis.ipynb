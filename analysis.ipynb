{
 "cells": [
  {
   "cell_type": "markdown",
   "id": "81b701d4",
   "metadata": {},
   "source": [
    "# SymPy 2022 Documentation Theme Survey Analysis"
   ]
  },
  {
   "cell_type": "markdown",
   "id": "d700655a",
   "metadata": {},
   "source": [
    "# Methodology\n",
    "\n",
    "SymPy ran a user survey about its documentation theme from February 5-19, 2022. The primary purpose of the survey was to guide the selection of a Sphinx theme for the SymPy Documentation at https://docs.sympy.org. \n",
    "\n",
    "A total of 22 people responded. The survey was done on Google Surveys and was shared on the SymPy public mailing list, the [@SymPy](https://twitter.com/SymPy) Twitter account, and a [SymPy discussion on GitHub](https://github.com/sympy/sympy/discussions/23055). The survey consisted of 14 questions, all of which were optional. The results of these responses are summarized here. We would like to thank everyone who took and shared the survey.\n",
    "\n",
    "Four themes were [chosen based on factors such as layout, navigation, performance, and accessibility](https://github.com/sympy/sympy/issues/22716) for evaluation by the SymPy community. Each theme was \"prototyped\" by\n",
    " - Applying the theme to the SymPy dev documentation\n",
    " - Removing SymPy Live, which has several problems, is [planned to be removed in the live documentation](https://github.com/sympy/sympy/issues/22835), and affects the formatting of the documentation site due to importing a style sheet\n",
    " - [Hosting them on GitHub Pages](https://bertiewooster.github.io/sympy-doc/)\n",
    "\n",
    "No attempt was made to customize the four themes because that is anticipated to be a time-consuming process with both technical (styling) and consensus-building components. Respondents were thus encouraged to focus on the layout, navigation, and interactive features, rather than the exact styling, for example colors.\n",
    "\n",
    "For each of the four themes, respondents were asked to\n",
    " - Rate the theme's usefulness of a scale of 1 (Not very useful) to 4 (Very useful)\n",
    " - Share what they liked and disliked"
   ]
  },
  {
   "cell_type": "markdown",
   "id": "da3d4e04-4254-4151-897e-be0b23c530dc",
   "metadata": {},
   "source": [
    "# Summary\n",
    "\n",
    "A detailed analysis of the responses is provided below. At a high level, there are three main takeaways from the results.\n",
    "\n",
    "1. The themes can be divided into three ratings categories, where the rating scale was 1 (Not very useful) to 4 (Very useful):\n",
    "    1. Highest: Furo at 2.95.\n",
    "    2. Middle: PyData and Book, nearly tied at 2.85 and 2.86, respectively.\n",
    "    3. Lowest: Read the Docs (RTD) at 2.47.\n",
    "\n",
    "2. Most comments about themes, both likes and dislikes, were about formatting, look and feel, and navigation.\n",
    "\n",
    "3. We should proceed with the Furo theme, customizing it to address respondents' dislikes about its formatting. We can keep the PyData and Book themes in mind as backup options."
   ]
  },
  {
   "cell_type": "code",
   "execution_count": 1,
   "id": "88694ed3",
   "metadata": {},
   "outputs": [],
   "source": [
    "import warnings\n",
    "warnings.filterwarnings('ignore')"
   ]
  },
  {
   "cell_type": "code",
   "execution_count": 2,
   "id": "70a8b2bd",
   "metadata": {
    "tags": []
   },
   "outputs": [],
   "source": [
    "import pandas\n",
    "import seaborn\n",
    "import matplotlib.pyplot as plt\n",
    "\n",
    "import textwrap\n",
    "\n",
    "# Set the plot format to SVG for better quality plots\n",
    "from matplotlib_inline.backend_inline import set_matplotlib_formats\n",
    "set_matplotlib_formats('retina')\n",
    "\n",
    "%matplotlib inline"
   ]
  },
  {
   "cell_type": "code",
   "execution_count": 3,
   "id": "4b76d286",
   "metadata": {
    "tags": []
   },
   "outputs": [],
   "source": [
    "df = pandas.read_csv('theme-responses.csv')"
   ]
  },
  {
   "cell_type": "code",
   "execution_count": 4,
   "id": "c60124b7",
   "metadata": {
    "tags": []
   },
   "outputs": [],
   "source": [
    "# Set up columns, themes, colors\n",
    "timestamp, experience_level, pydata_rating, pydata_like, pydata_dislike, book_rating, book_like, book_dislike, furo_rating, furo_like, furo_dislike, rtd_rating, rtd_like, rtd_dislike, other_comments,  = df.columns\n",
    "\n",
    "rating_cols = [pydata_rating, book_rating, furo_rating, rtd_rating]\n",
    "\n",
    "themes = [\"PyData\", \"Book\", \"Furo\", \"RTD\"]\n",
    "n_themes = len(themes)\n",
    "theme_colors = [\"blue\", \"red\", \"yellow\", \"green\"]\n",
    "\n",
    "n_responses = len(df)"
   ]
  },
  {
   "cell_type": "code",
   "execution_count": 4,
   "id": "4360d7d9",
   "metadata": {},
   "outputs": [],
   "source": [
    "## Functions to determine complimentary color\n",
    "## https://stackoverflow.com/questions/40233986/python-is-there-a-function-or-formula-to-find-the-complementary-colour-of-a-rgb\n",
    "\n",
    "# Sum of the min & max of (a, b, c)\n",
    "def hilo(a, b, c):\n",
    "    if c < b: b, c = c, b\n",
    "    if b < a: a, b = b, a\n",
    "    if c < b: b, c = c, b\n",
    "    return a + c\n",
    "\n",
    "# Get complimentary color\n",
    "def complement(r, g, b):\n",
    "    k = hilo(r, g, b)\n",
    "    return tuple(k - u for u in (r, g, b))"
   ]
  },
  {
   "cell_type": "markdown",
   "id": "97c9ac99",
   "metadata": {},
   "source": [
    "## Experience Level"
   ]
  },
  {
   "cell_type": "markdown",
   "id": "7a5263bc",
   "metadata": {},
   "source": [
    "The first question asked the respondents to place their SymPy experience level on a scale of 1 to 5, with 1 being \"novice user\" and 5 being \"expert user\".\n",
    "\n",
    "Most respondents self-reported a mid-level experience with SymPy. "
   ]
  },
  {
   "cell_type": "code",
   "execution_count": 5,
   "id": "5760e837",
   "metadata": {
    "tags": []
   },
   "outputs": [
    {
     "data": {
      "image/png": "[encoded data removed]",
      "text/plain": [
       "<Figure size 432x288 with 1 Axes>"
      ]
     },
     "metadata": {
      "image/png": {
       "height": 272,
       "width": 382
      },
      "needs_background": "light"
     },
     "output_type": "display_data"
    }
   ],
   "source": [
    "n_nr = df[experience_level].isna().sum()\n",
    "\n",
    "experience_cat_nr = pandas.Series({'0': n_nr})\n",
    "experience_cats_r = df[experience_level].dropna().astype(int).value_counts(sort=False).sort_index()\n",
    "experience_cats = experience_cat_nr.append(experience_cats_r)\n",
    "\n",
    "percents_experience_cats = [\"%.1f%%\" % i for i in experience_cats/n_responses*100]\n",
    "\n",
    "max_width = 10\n",
    "\n",
    "ax = seaborn.countplot(\n",
    "    x = df[experience_level].fillna(0).astype(int),\n",
    ")\n",
    "bar_labels = ax.bar_label(ax.containers[0], percents_experience_cats, \n",
    "    )\n",
    "ax.set_xticklabels(['No response', \"1 Novice user\", \"2\", \"3\", \"4\", \"5 Expert user\"])\n",
    "\n",
    "# Split x tick labels across multiple lines\n",
    "# https://stackoverflow.com/questions/57144682/split-string-xticks-into-multiple-lines-matplotlib\n",
    "xtl = ax.set_xticklabels(textwrap.fill(x.get_text(), max_width) for x in ax.get_xticklabels())"
   ]
  },
  {
   "cell_type": "markdown",
   "id": "c1512bac",
   "metadata": {},
   "source": [
    "## Theme Ratings"
   ]
  },
  {
   "cell_type": "markdown",
   "id": "893513dd",
   "metadata": {},
   "source": [
    "The survey asked respondents to rate the usefulness of four themes on a 1-4 scale, with 1 being Not very useful and 4 being Very useful. The mean and standard deviation of the rating for each theme are expressed numerically and graphically as:"
   ]
  },
  {
   "cell_type": "code",
   "execution_count": 6,
   "id": "9577952a",
   "metadata": {},
   "outputs": [
    {
     "data": {
      "text/html": [
       "<div>\n",
       "<style scoped>\n",
       "    .dataframe tbody tr th:only-of-type {\n",
       "        vertical-align: middle;\n",
       "    }\n",
       "\n",
       "    .dataframe tbody tr th {\n",
       "        vertical-align: top;\n",
       "    }\n",
       "\n",
       "    .dataframe thead th {\n",
       "        text-align: right;\n",
       "    }\n",
       "</style>\n",
       "<table border=\"1\" class=\"dataframe\">\n",
       "  <thead>\n",
       "    <tr style=\"text-align: right;\">\n",
       "      <th></th>\n",
       "      <th>mean</th>\n",
       "      <th>std</th>\n",
       "    </tr>\n",
       "  </thead>\n",
       "  <tbody>\n",
       "    <tr>\n",
       "      <th>How useful is the PyData theme?</th>\n",
       "      <td>2.85</td>\n",
       "      <td>0.75</td>\n",
       "    </tr>\n",
       "    <tr>\n",
       "      <th>How useful is the Book theme?</th>\n",
       "      <td>2.86</td>\n",
       "      <td>0.79</td>\n",
       "    </tr>\n",
       "    <tr>\n",
       "      <th>How useful is the Furo theme?</th>\n",
       "      <td>2.95</td>\n",
       "      <td>1.02</td>\n",
       "    </tr>\n",
       "    <tr>\n",
       "      <th>How useful is the Read the Docs (RTD) theme?</th>\n",
       "      <td>2.47</td>\n",
       "      <td>0.90</td>\n",
       "    </tr>\n",
       "  </tbody>\n",
       "</table>\n",
       "</div>"
      ],
      "text/plain": [
       "                                              mean   std\n",
       "How useful is the PyData theme?               2.85  0.75\n",
       "How useful is the Book theme?                 2.86  0.79\n",
       "How useful is the Furo theme?                 2.95  1.02\n",
       "How useful is the Read the Docs (RTD) theme?  2.47  0.90"
      ]
     },
     "execution_count": 6,
     "metadata": {},
     "output_type": "execute_result"
    }
   ],
   "source": [
    "df[rating_cols].describe().transpose()[[\"mean\",\"std\"]].round(2)"
   ]
  },
  {
   "cell_type": "code",
   "execution_count": 7,
   "id": "4c371b03",
   "metadata": {},
   "outputs": [],
   "source": [
    "# So seaborn can automatically plot standard deviations as error bars,\n",
    "# combine all ratings into one column, paired with theme\n",
    "all_themes = []\n",
    "for theme in themes:\n",
    "    this_theme = [theme] * n_responses\n",
    "    all_themes += this_theme\n",
    "\n",
    "all_ratings = []\n",
    "for col in rating_cols:\n",
    "    this_theme_ratings = list(df[col])\n",
    "    all_ratings += this_theme_ratings\n",
    "\n",
    "df_combined = pandas.DataFrame(list(zip(all_themes, all_ratings)), columns = ['theme', 'rating'])\n"
   ]
  },
  {
   "cell_type": "code",
   "execution_count": 8,
   "metadata": {},
   "outputs": [
    {
     "data": {
      "image/png": "[encoded data removed]",
      "text/plain": [
       "<Figure size 432x288 with 1 Axes>"
      ]
     },
     "metadata": {
      "image/png": {
       "height": 252,
       "width": 387
      },
      "needs_background": "light"
     },
     "output_type": "display_data"
    }
   ],
   "source": [
    "rating_min = 1\n",
    "rating_max = 4\n",
    "num_bins = rating_max - rating_min + 1\n",
    "rating_values = range(rating_min, rating_max + 1)\n",
    "\n",
    "t = seaborn.barplot(\n",
    "    data=df_combined, \n",
    "    x=\"theme\", \n",
    "    y=\"rating\",\n",
    "    capsize=0.2,\n",
    "    errwidth=0.5,\n",
    "    palette=theme_colors, \n",
    "    alpha=.6, \n",
    ")\n",
    "t.set_yticks(rating_values)\n",
    "t.bar_label(\n",
    "    t.containers[0], \n",
    "    # label_type = 'center', \n",
    "    fmt='%.2f',\n",
    "    padding = 4,\n",
    "    bbox=dict(\n",
    "        fc = \"white\", \n",
    "        lw = 0,\n",
    "    )\n",
    ")\n",
    "\n",
    "y_label = f\"How useful is each theme?\\n{rating_min}\"\n",
    "y_label += \"= Not very useful\" + \"             \" + f\"Very useful = {rating_max}\"\n",
    "\n",
    "t.set(xlabel='', ylabel=y_label)\n",
    "t.set(ylim=(rating_min,rating_max))\n",
    "\n",
    "t.grid(False)"
   ]
  },
  {
   "cell_type": "markdown",
   "id": "55755f58",
   "metadata": {},
   "source": [
    "Furo is the highest-rated theme by about 0.1 points. PyData and Book are virtually tied for second place. Read the Docs is rated lowest, about 0.5 points below Furo."
   ]
  },
  {
   "cell_type": "markdown",
   "id": "1488d2ba",
   "metadata": {},
   "source": [
    "## Rating Distribution for Themes"
   ]
  },
  {
   "cell_type": "markdown",
   "id": "76027b89",
   "metadata": {},
   "source": [
    "For each theme, a histogram displays the count of responses for each rating level, from 1 to 4, and the dashed vertical line indicates the mean rating."
   ]
  },
  {
   "cell_type": "code",
   "execution_count": 9,
   "id": "86eb44f5",
   "metadata": {},
   "outputs": [
    {
     "data": {
      "image/png": "[encoded data removed]",
      "text/plain": [
       "<Figure size 360x1080 with 4 Axes>"
      ]
     },
     "metadata": {
      "image/png": {
       "height": 902,
       "width": 310
      },
      "needs_background": "light"
     },
     "output_type": "display_data"
    }
   ],
   "source": [
    "import matplotlib\n",
    "import matplotlib.ticker as mticker\n",
    "\n",
    "fig, axes = plt.subplots(n_themes, figsize=(5, 15))\n",
    "plt.subplots_adjust(hspace = 0)\n",
    "\n",
    "for theme_num, theme in enumerate(themes):\n",
    "    graph = seaborn.histplot(\n",
    "    ax=axes[theme_num],\n",
    "    data=df,\n",
    "    x = rating_cols[theme_num],\n",
    "    bins = num_bins,\n",
    "    binrange=[rating_min,rating_max],\n",
    "    color=theme_colors[theme_num],\n",
    "    alpha = 0.6,\n",
    "    edgecolor=\"white\"\n",
    "    )\n",
    "    \n",
    "    ## Add vertical line at mean of each theme\n",
    "\n",
    "    # Get RGB of bar's color\n",
    "    bar_rgb = matplotlib.colors.to_rgb(theme_colors[theme_num])\n",
    "    line_rgb = complement(*bar_rgb)\n",
    "\n",
    "    #   https://datavizpyr.com/how-to-add-a-mean-median-line-to-a-seaborn-displot/\n",
    "    graph.axvline(x=df[rating_cols[theme_num]].mean(),\n",
    "        ls='--',\n",
    "        color=line_rgb,\n",
    "        ymax = 0.95\n",
    "    )\n",
    "    graph.set(ylabel=themes[theme_num] + \" count\")\n",
    "    graph.grid(False)             # remove gridlines\n",
    "    graph.set(yticklabels=[])     # remove y-axis tick labels\n",
    "\n",
    "    # Add labels to bars: Percents\n",
    "    theme_cats = df[rating_cols[theme_num]].dropna().astype(int).value_counts(sort=False).sort_index()\n",
    "\n",
    "    # Ensure each bar has an entry in list\n",
    "    denom = sum(theme_cats) / 100\n",
    "    percents_cats = []\n",
    "    for cat in range(rating_min, rating_max + 1):\n",
    "        if cat in theme_cats:\n",
    "            pct = theme_cats[cat] / denom\n",
    "            percents_cats += [\"%.0f%%\" % pct]\n",
    "        else:\n",
    "            percents_cats += [\"\"]\n",
    "\n",
    "    l = graph.bar_label(\n",
    "        graph.containers[0], \n",
    "        percents_cats, \n",
    "        )\n",
    "\n",
    "    # Hide tick marks by making them zero length\n",
    "    graph.tick_params(length = 0)\n",
    "\n",
    "    if theme_num in range(1, n_themes - 2):\n",
    "        # For graphs in the middle (neither top nor bottom),\n",
    "        #   remove x axis and tick labels\n",
    "        graph.set(xlabel='')\n",
    "        graph.set_xticklabels([])\n",
    "    else:\n",
    "        # For graphs at top and bottom,\n",
    "        #   show x-axis title and tick labels\n",
    "\n",
    "        # Fixing yticks with matplotlib.ticker \"FixedLocator\"\n",
    "        #   https://stackoverflow.com/questions/63723514/userwarning-fixedformatter-should-only-be-used-together-with-fixedlocator\n",
    "        label_format = '{:,.0f}'\n",
    "        ticks_loc = graph.get_xticks().tolist()\n",
    "        graph.xaxis.set_major_locator(mticker.FixedLocator(ticks_loc))\n",
    "        graph.set_xticklabels([label_format.format(x) for x in ticks_loc])\n",
    "\n",
    "        # Center labels on bars (columns)\n",
    "        #   https://stackoverflow.com/questions/63516973/how-can-i-mark-xticks-at-the-center-of-bins-for-a-seaborn-distplot\n",
    "        mids = [rect.get_x() + rect.get_width() / 2 for rect in graph.patches]\n",
    "        graph.set_xticks(mids)\n",
    "\n",
    "        graph.set(xlabel='How useful is each theme?')\n",
    "        graph.set_xticklabels(['1\\nNot very','2\\n','3\\n','4\\nVery'])\n",
    "\n",
    "        if theme_num == 0:\n",
    "            graph.xaxis.set_ticks_position(\"top\")\n",
    "            graph.xaxis.set_label_position(\"top\")\n"
   ]
  },
  {
   "cell_type": "markdown",
   "id": "7d210680",
   "metadata": {},
   "source": [
    "For Furo, the mode is 4, Very useful. The mode of the other three themes is 3."
   ]
  },
  {
   "cell_type": "markdown",
   "id": "a42ac95f",
   "metadata": {},
   "source": [
    "# Furo theme\n",
    "\n",
    "Given that Furo is the highest-rated theme, it is worth considering other factors before deciding to proceed with it.\n",
    "\n",
    "## Comments about Furo\n",
    "Here are consolidated lists of highlights from what respondents liked and disliked about Furo.\n",
    "- Like\n",
    "   - Clean look and clear font\n",
    "   - Left and right sidebars for site and page navigation, respectively\n",
    "   - Has both light and dark themes, and is easy to switch between them\n",
    "- Dislike\n",
    "   - Colors are distracting (for example, behind code blocks), too dark without enough contrast \n",
    "   - Bold and highlighting seem a little cartoonish\n",
    "   - Not more widely used in documentation for data science packages\n",
    "   - Collapse of in-page navigation not optimal\n",
    "\n",
    "## Other factors\n",
    " - Furo SymPy prototype gets excellent [Lighthouse scores](https://googlechrome.github.io/lighthouse/viewer/?psiurl=https%3A%2F%2Fbertiewooster.github.io%2Fsympy-doc%2Ffuro%2Fmodules%2Fassumptions%2Findex.html%23querying&strategy=desktop&category=performance&category=accessibility&category=best-practices&category=seo&category=pwa&utm_source=lh-chrome-ext) before any customization:\n",
    "    - Performance: 100\n",
    "    - Accessibility: 98\n",
    "    - Best Practices: 100\n",
    "    - SEO (search engine optimization): 90\n",
    " - Furo is well supported, having frequent updates\n",
    " - Furo's developer is very accessible, even [commenting on a SymPy thread](https://github.com/sympy/sympy/issues/22716#issuecomment-1013016667) without our asking them\n",
    " - [\"Pretty much every color on the screen is customizable\"](https://pradyunsg.me/furo/customisation/colors/#defining-overrides-for-defaults) per Furo's developer so we should be able to address what respondents disliked about colors\n",
    " - Furo is the only theme that shows a fully expanded table of contents on the right sidebar\n",
    " - Furo was recommended by Joannah Nanjekye, who spent much time working on the documentation for [2021 Google Season of Docs](https://github.com/sympy/sympy/wiki/GSoD-2021-Report-Joannah-Nanjekye:-Reorganizing-the-SymPy-Documentation)\n",
    "\n",
    "# Recommendation\n",
    "For the above reasons, we should proceed with Furo as the new Sphinx theme. Customizing the theme should address some of the deficits of the prototype, such as colors.\n",
    "\n",
    "Should there be some unexpected reason we cannot customize Furo as desired, we could try PyData or Book."
   ]
  },
  {
   "cell_type": "markdown",
   "id": "e3614f63-5937-47f4-9a96-8514fc795c1d",
   "metadata": {},
   "source": [
    "# Other comments from respondents\n",
    "\n",
    "Finally, nine people responded to \"Are there any other comments you'd like to make?\". Here is a summary of some things that stood out. \n",
    "\n",
    "- All four options are good.\n",
    "- Whichever theme you go with it’ll be an improvement.\n",
    "- Please use that nice dark mode"
   ]
  },
  {
   "cell_type": "markdown",
   "id": "155099a5",
   "metadata": {},
   "source": [
    "# Appendix: All comments from respondents\n",
    "\n",
    "For the sake of completeness, all comments are shown below."
   ]
  },
  {
   "cell_type": "code",
   "execution_count": 10,
   "id": "5e8b0fd7",
   "metadata": {},
   "outputs": [],
   "source": [
    "def print_answers(col):\n",
    "    i = 1\n",
    "    for e, v in df[[experience_level,col]].iloc:\n",
    "        if pandas.isna(v):\n",
    "            continue\n",
    "        print(f\"{i}. {v.strip()} (experience level: {int(e) if not pandas.isna(e) else 'N/A'})\\n\")\n",
    "        i += 1"
   ]
  },
  {
   "cell_type": "code",
   "execution_count": 11,
   "id": "da2d12be",
   "metadata": {},
   "outputs": [
    {
     "name": "stdout",
     "output_type": "stream",
     "text": [
      "--- What do you LIKE about the PyData theme? ---\n",
      "1. search easy to find, updating position in doc on right (experience level: 5)\n",
      "\n",
      "2. It is a neat theme (experience level: 4)\n",
      "\n",
      "3. Clear, succint, very little clutter (experience level: 5)\n",
      "\n",
      "4. I like the clean layout. (experience level: 4)\n",
      "\n",
      "5. It is neat and simple, with left and right sidebars proving useful. The top sidebar is also quite convenient since scrolling on the left sidebar would be reduced as opposed to themes which lack the top sidebar. (experience level: 3)\n",
      "\n",
      "6. clear view without distractions (experience level: 2)\n",
      "\n",
      "7. Flat design, style uniformity accros sur the data exosystem, maintainability of a shared product (experience level: N/A)\n",
      "\n",
      "8. The docstring rendering is easier to read than the old docs page. Better colors and less clutter. Fits on screen better. (experience level: 3)\n",
      "\n",
      "9. Readable, not a huge shift (experience level: 3)\n",
      "\n",
      "10. Desktop: Clean look. The categories across the top. The search box in a fixed position on the left navbar. Good highlighting format (for ?highlight=xxx in URL). Good differentiation between regular text, links (bold, blue), and code (pink). Good permalink setup: ¶ appears when link text moused over, then ¶ highlights when moused over. Code blocks are clearly delineated (using gray box) and their background is the same as rest of page. Easy to triple-click to select a line of code from a code block. Phone: Fairly easy to copy code from a code block. (experience level: 3)\n",
      "\n",
      "11. It's very clean looking. Easy to navigate. (experience level: 3)\n",
      "\n",
      "12. It looks neat and has a floating content menu. (experience level: 5)\n",
      "\n",
      "13. Reminds me of scipy (experience level: 4)\n",
      "\n",
      "14. it's clean (experience level: 4)\n",
      "\n",
      "--- What do you DISLIKE about the PyData theme? ---\n",
      "1. Looks kinda incomplete (experience level: 4)\n",
      "\n",
      "2. 3 levels of nesting (top, left, right) was not instantly obvious for how to use. (experience level: 5)\n",
      "\n",
      "3. I am bothered by the way useful links switch from side-to-side. I do understand the the links at right are to anchors on the particular page. However, sometimes having links on one side, but not the other did not seem natural and was initially confusing. (experience level: 4)\n",
      "\n",
      "4. Left sidebar occupies a lot of space on the screen. (experience level: 3)\n",
      "\n",
      "5. nothing (experience level: 2)\n",
      "\n",
      "6. The first thing I did was click \"API ref\" in the right side menu, but it didn't take me to a new page. I would expect selecting from a menu on the right would then show new content about that topic.\n",
      "\n",
      "It needs more sympy colors to feel like sympy's documentation.\n",
      "\n",
      "The front page is quite boring with only four big headers. If you look at matplotlib, numpy, pandas, etc. the front page is very engaging with the graphics and big buttons.\n",
      "\n",
      "You have to click too many times to drill down to seeing an actual page with information on it. In the old docs you have a big ToC on the front page and one click usually gets you to useful information.\n",
      "\n",
      "Most pages feel too short. Web browsers can scroll (infinitely). It's preferable to make longer pages with hyperlink targets and table of contents menus. (experience level: 3)\n",
      "\n",
      "7. White background, black text. Could use more links or tables of contents. (experience level: 3)\n",
      "\n",
      "8. Desktop: In left navbar, not super-obvious which item this page is (highlighting not that strong). Distinction between h2 and h3 not that obvious, especially when h2 text is lowercase and h3 text is uppercase. Phone: Initial view of many pages (home, search) wastes a lot of vertical space. When tap a link in tree at top of page, there's no visible indication that the page content changed because link tree takes up entire screen height. (experience level: 3)\n",
      "\n",
      "9. I don't like the right-hand TOC that only expands the section you're currently in. (experience level: 3)\n",
      "\n",
      "10. Nothing in particular but if possible there should be an option for dark mode. (experience level: 5)\n",
      "\n",
      "11. Doesn't remind me of sympy (experience level: 4)\n",
      "\n",
      "12. content is too narrow (experience level: 4)\n",
      "\n",
      "--- What do you LIKE about the Book theme? ---\n",
      "1. Simple and minimalistic (experience level: 4)\n",
      "\n",
      "2. Clean, intuitive (experience level: 5)\n",
      "\n",
      "3. Good clean styling. Accordion navigation at left. Easy to find way to collapse left hand navigation pane. (experience level: 4)\n",
      "\n",
      "4. Collapsible sidebar and full screen mode would help to view docs better once users find what they are looking for. (experience level: 3)\n",
      "\n",
      "5. clean view (experience level: 2)\n",
      "\n",
      "6. I like the font (experience level: 3)\n",
      "\n",
      "7. Desktop: Clear differentiation of headings from regular text, and h2 from h3; and current section in left navbar; due to blue color. Clear differentiation of function syntax and parameters due to background color. Permalinks nicely handled: ¶ appears when mouse over link text, then gets darker when mouse over ¶. Phone: Pretty good use of vertical space. Page content is front and center, and nicely presented when go to a new page. Previous and Next links at bottom of page give visitor suggestions of where to go next. (experience level: 3)\n",
      "\n",
      "8. Again, very clean and easy to navigate. Works well on my phone, too. (experience level: 3)\n",
      "\n",
      "9. it's appealing to read (experience level: 4)\n",
      "\n",
      "--- What do you DISLIKE about the Book theme? ---\n",
      "1. I don't like the expandable index as much as I like the top selection of doc + left index; I also find the larger logo overpowering of the important element (like search and index). (experience level: 5)\n",
      "\n",
      "2. top bar, that menu button, full screen toggle and download button will hardly ever be used, yet they consume precious vertical space. (experience level: 5)\n",
      "\n",
      "3. SymPy logo takes up a lot of space on every page. Code indents seem off in some pages. (experience level: 3)\n",
      "\n",
      "4. top controls distract me ) (experience level: 2)\n",
      "\n",
      "5. I can't really tell the difference in this one and the first one I was shown. So all the same comments apply. (experience level: 3)\n",
      "\n",
      "6. White background (experience level: 3)\n",
      "\n",
      "7. Phone: Icons at top right (fullscreen and download) unlikely to be used often, and draw visitor's attention. No index (link tree) for within current page. No constant reminder of which site I'm on--could we add \"SymPy\" or the logo to the header, between hamburger menu and two icons at top right? (experience level: 3)\n",
      "\n",
      "8. Same as pydata: I don't like the right-hand TOC that only expands the section you're currently in. (experience level: 3)\n",
      "\n",
      "9. the contest has got to be really organized in this format (experience level: 4)\n",
      "\n",
      "--- What do you LIKE about the Furo theme? ---\n",
      "1. The sidebar for contents is pretty cool (experience level: 4)\n",
      "\n",
      "2. Clean, intuitive and puts all vertical space to use. (experience level: 5)\n",
      "\n",
      "3. Almost as good as book. Clean theme, easy to navigate. (experience level: 4)\n",
      "\n",
      "4. The inbuilt dark mode could be useful. (experience level: 3)\n",
      "\n",
      "5. I like that right and left menus are collapsable. Many times I checked Sympy documentation using my tablet and I like to have a bigger are dedicated to the document I’m reading. (experience level: 1)\n",
      "\n",
      "6. nothing (experience level: 2)\n",
      "\n",
      "7. The dark theme button is right here, I find this layout very easy on the eye (experience level: N/A)\n",
      "\n",
      "8. Black background, clear font, THIS IS THE ONE (experience level: 3)\n",
      "\n",
      "9. Desktop: Clear differentiation between headings and regular text, and h2 from h3. Pretty clear which is current section on left navbar due to bolding. Permalink setup pretty good: ¶ appears when mouse over link text, cursor turns to hand when mouse over ¶. Phone: Having two hamburger menus, one for site tree and one for sections-on-this-page tree. Always displays site title at top. (experience level: 3)\n",
      "\n",
      "10. * I like the right-hand TOC where you always see all sections. For me, this is much better than the ones (book and pydata) where it only expands the section you're currently in.\n",
      "\n",
      "* I think this one just \"looks\" the best overall. (experience level: 3)\n",
      "\n",
      "11. As before, clean and easy to navigate. Also, I like the light and dark theme options. Easy on the eyes. (experience level: 3)\n",
      "\n",
      "12. In my opinion it is the perfect theme. (experience level: 5)\n",
      "\n",
      "13. It's dark. I like dark (experience level: 4)\n",
      "\n",
      "14. looks nice (experience level: 4)\n",
      "\n",
      "--- What do you DISLIKE about the Furo theme? ---\n",
      "1. bold/highlighting seems a little cartoonish; I prefer a cleaner style (experience level: 5)\n",
      "\n",
      "2. The lack of a secondary color makes it look unfinished (experience level: 4)\n",
      "\n",
      "3. Nothing in particular (experience level: 5)\n",
      "\n",
      "4. Does not collapse in-page navigation as well as 'book'. Also not as much easy changing of the view. (experience level: 4)\n",
      "\n",
      "5. SymPy logo takes up a lot of space on every page. (experience level: 3)\n",
      "\n",
      "6. too dark without sufficient contrast (experience level: 2)\n",
      "\n",
      "7. That it’s not more widely used in data science docs (experience level: N/A)\n",
      "\n",
      "8. Same comment as last. Looks practically the same as the prior two. Same comments apply. (experience level: 3)\n",
      "\n",
      "9. Nothing (experience level: 3)\n",
      "\n",
      "10. Desktop: Not a big fan of background color in code blocks; could be improved by making the color lighter (less saturated). Phone: Bit of an \"interference effect\" when scroll vertically as top title bar hides (?) page content. (experience level: 3)\n",
      "\n",
      "11. colors are distracting (experience level: 4)\n",
      "\n",
      "--- What do you LIKE about the Read the Docs (RTD) theme? ---\n",
      "1. I like the \"stickies\" like notes on the page and that IDE examples seem less intrusive (experience level: 5)\n",
      "\n",
      "2. The colors are nice (experience level: 4)\n",
      "\n",
      "3. Conventional, i.e. familiar to many users (experience level: 5)\n",
      "\n",
      "4. Very familiar interface as this is used by lots of standard documentation. Easy to navigate. All the quicklinks on one side. (experience level: 4)\n",
      "\n",
      "5. User friendly interface. Familiar theme, therefore could attract many users. (experience level: 3)\n",
      "\n",
      "6. bright and colorfull (experience level: 2)\n",
      "\n",
      "7. Simple, effective (experience level: N/A)\n",
      "\n",
      "8. I like this one the best! The menu on the left works as expected. You click and it takes you to a new page of info. And then the menu expands letting you quickly navigate to new relevant content. I think if that big blue square in the top left was sympy green (and probably other blues need to be swapped to greens) then we have a winner! (experience level: 3)\n",
      "\n",
      "9. Ehh (experience level: 3)\n",
      "\n",
      "10. Desktop: Headings are nice and bold. Clear differentiation of h2 from h3. Using increasingly opaque colors in left navbar demonstrates where in site tree visitor is. Permalinks pretty good: ¶ appears when mouse over link text, cursor changes when mouse over ¶. Phone: . (experience level: 3)\n",
      "\n",
      "11. Nice and familiar. (experience level: 3)\n",
      "\n",
      "--- What do you DISLIKE about the Read the Docs (RTD) theme? ---\n",
      "1. I kind of like to know where the Next and Previous buttons are taking me. (experience level: 5)\n",
      "\n",
      "2. I'd like the side bar to be collapsible (experience level: 4)\n",
      "\n",
      "3. One cannot expand subsections of the Reference documentation directly to the left, but is forced to click the links in the body. Easier to get lost on big pages since it lacks the \"on-page-navigation\" bar to the right. (experience level: 5)\n",
      "\n",
      "4. Does not have the easy view customization of 'book' (experience level: 4)\n",
      "\n",
      "5. Lack of right sidebar to filter topics on a particular page. (experience level: 3)\n",
      "\n",
      "6. I find the other three themes clearer. (experience level: 1)\n",
      "\n",
      "7. colours distract from text (experience level: 2)\n",
      "\n",
      "8. Seems devoid of personality, this theme is far too popular for its own good (experience level: N/A)\n",
      "\n",
      "9. Needs green in colors. Needs more engaging front page. There is a lot of prose style docs (often module docstring) in the API. That really needs to be move into one of the other big 4 groups of the documentation. The api should strictly be the docstrings of classes, functions, etc. (experience level: 3)\n",
      "\n",
      "10. It’s not the fur theme (experience level: 3)\n",
      "\n",
      "11. Previous and Next links don't display what those page titles are (until visitor mouses over). Desktop: Not a big fan of color backgrounds of left navbar and especially to the right of page content; could be improved by changing colors. Determining which page vistior is on, in left navbar, could be easier: highlighting of current page is link a little weak. Phone: Very much dislike how left navbar pushes page content to the right; prefer overlay style of other themes. Very much dislike that there's no way to navigate to another page, or jump to another section of this page, after visitor scrolls down, because the hamburger menu isn't sticky. (experience level: 3)\n",
      "\n",
      "12. left-hand TOC has issues\n",
      "\n",
      "e.g. Try going to \"Reference Documentation\" > \"Topics\". Now under \"Topics\" you see the same sections as \"Reference Documentation\" repeated again. Now click \"Topics\" in here, and you actually get into \"Topics\". (experience level: 3)\n",
      "\n",
      "13. Again it looks like any other python project website. It doesn't stand out in particular. (experience level: 5)\n",
      "\n",
      "14. too old fashioned (experience level: 4)\n",
      "\n",
      "--- Are there any other comments you'd like to make? ---\n",
      "1. Thanks for organizing this! (experience level: 5)\n",
      "\n",
      "2. None in particular, looks great! (experience level: 5)\n",
      "\n",
      "3. Book is cleaner looking and allows the viewer more adaptations of the display. However, it is likely to be less familiar and a little harder to navigate than rtd for most people. I think either would be acceptable. Book seems a little more 'modern'. The 'modernity' will probably only last for a couple of years as styles change so rapidly. (experience level: 4)\n",
      "\n",
      "4. All four options are good. (experience level: 1)\n",
      "\n",
      "5. thank you for your work on SymPy. (experience level: 2)\n",
      "\n",
      "6. Whichever theme you go with it’ll be an improvement. Thank you for taking the time to implement this and to ask for feedback ! (experience level: N/A)\n",
      "\n",
      "7. The first 3 all look the same and have poorly designed menus that don't function as expected. It also seems that there are two menus on some, which is confusing. The last one RTD is really the only one that looks functional to me. (experience level: 3)\n",
      "\n",
      "8. Please use that nice dark mode (experience level: 3)\n",
      "\n",
      "9. PyData, Book, and Furo would all be good choices.\n",
      "Category names (SymPy Tutorial, SymPy Guides, Explanation, Reference Documentation, Miscellaneous) should be shortened, for example remove \"SymPy\", change \"Reference Documentation\" to API(?). (experience level: 3)\n",
      "\n"
     ]
    }
   ],
   "source": [
    "tag = \"---\"\n",
    "for name, values in df.iteritems():\n",
    "    if \"like\" in str(name).lower():\n",
    "        print(tag + \" \" + name + \" \" + tag)\n",
    "        print_answers(name)"
   ]
  }
 ],
 "metadata": {
  "kernelspec": {
   "display_name": "Python 3 (ipykernel)",
   "language": "python",
   "name": "python3"
  },
  "language_info": {
   "codemirror_mode": {
    "name": "ipython",
    "version": 3
   },
   "file_extension": ".py",
   "mimetype": "text/x-python",
   "name": "python",
   "nbconvert_exporter": "python",
   "pygments_lexer": "ipython3",
   "version": "3.9.7"
  }
 },
 "nbformat": 4,
 "nbformat_minor": 5
}
